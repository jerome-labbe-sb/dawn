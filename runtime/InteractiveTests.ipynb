{
 "cells": [
  {
   "cell_type": "code",
   "execution_count": 1,
   "metadata": {
    "collapsed": true
   },
   "outputs": [],
   "source": [
    "from vrep_interface import *\n",
    "import vrep_interface"
   ]
  },
  {
   "cell_type": "code",
   "execution_count": 2,
   "metadata": {
    "collapsed": true
   },
   "outputs": [],
   "source": [
    "import vrep"
   ]
  },
  {
   "cell_type": "code",
   "execution_count": 3,
   "metadata": {
    "collapsed": false
   },
   "outputs": [],
   "source": [
    "v = vrep_interface.VRepInterface.get_interface()"
   ]
  },
  {
   "cell_type": "code",
   "execution_count": 4,
   "metadata": {
    "collapsed": false
   },
   "outputs": [
    {
     "data": {
      "text/plain": [
       "(0,\n",
       " \";name='DefaultCamera',type=3,id=0;name='DefaultXViewCamera',type=3,id=1;name='DefaultYViewCamera',type=3,id=2;name='DefaultZViewCamera',type=3,id=3;name='XYZCameraProxy',type=4,id=4;name='dr12_robot_',type=4,id=5;name='dr12_respondableBody_',type=0,id=6;name='dr12_body_',type=0,id=7;name='dr12_leftJoint_',type=1,id=8,jointType=10;name='dr12_respondableLeftWheel_',type=0,id=9;name='dr12_leftWheel_',type=0,id=10;name='dr12_rightJoint_',type=1,id=11,jointType=10;name='dr12_respondableRightWheel_',type=0,id=12;name='dr12_rightWheel_',type=0,id=13;name='dr12_graph_',type=2,id=14;name='Camera1',type=3,id=15;name='dr12_bumperForceSensor_',type=12,id=16;name='dr12_respondableBumper_',type=0,id=17;name='dr12_bumper_',type=0,id=18;name='dr12_sliderConnection_',type=12,id=19;name='dr12_respondableSlider_',type=0,id=20;name='dr12_goalPos',type=4,id=21;name='dr12_collidableForPathPlanning',type=0,id=22;name='Wall',type=0,id=23;name='Joint',type=1,id=24,jointType=10;name='dr12_goalPosCylinder',type=0,id=25;name='STL_Imported_part_5',type=0,id=26;name='Rectangle10',type=0,id=27;name='Rectangle11',type=0,id=28;name='Rectangle12',type=0,id=29;name='Rectangle13',type=0,id=30;name='Rectangle14',type=0,id=31;name='Rectangle15',type=0,id=32;name='Rectangle16',type=0,id=33;name='Rectangle17',type=0,id=34;name='Rectangle19',type=0,id=35;name='Rectangle20',type=0,id=36;name='Rectangle21',type=0,id=37;name='Rectangle22',type=0,id=38;name='Rectangle23',type=0,id=39;name='Rectangle24',type=0,id=40;name='Rectangle25',type=0,id=41;name='Rectangle26',type=0,id=42;name='Rectangle27',type=0,id=43;name='Rectangle28',type=0,id=44;name='Rectangle29',type=0,id=45;name='Rectangle30',type=0,id=46;name='Rectangle23#0',type=0,id=47;name='Joint#0',type=1,id=48,jointType=10;name='Rectangle31',type=0,id=49;name='Rectangle32',type=0,id=50;name='Rectangle33',type=0,id=51;name='Rectangle34',type=0,id=52;name='Rectangle35',type=0,id=53;name='Rectangle36',type=0,id=54;name='dr12_goalPos#0',type=4,id=55;name='dr12_goalPos#1',type=4,id=56;name='Rectangle23#1',type=0,id=57;name='Joint#1',type=1,id=58,jointType=10;name='Rectangle23#2',type=0,id=59;name='Joint#2',type=1,id=60,jointType=10;name='infoPrint',type=4,id=61;name='DefaultLightA',type=13,id=62;name='DefaultLightB',type=13,id=63;name='DefaultLightC',type=13,id=64;name='DefaultFloor',type=0,id=65;name='wireframePart',type=0,id=66;name='patternB',type=0,id=67;name='Floor_respondable',type=0,id=68;name='Wall_respondable',type=0,id=69\")"
      ]
     },
     "execution_count": 4,
     "metadata": {},
     "output_type": "execute_result"
    }
   ],
   "source": [
    "vrep.simxGetStringSignal(v.clientID, \"hw_info\", v.opmode)"
   ]
  },
  {
   "cell_type": "code",
   "execution_count": null,
   "metadata": {
    "collapsed": true
   },
   "outputs": [],
   "source": []
  },
  {
   "cell_type": "code",
   "execution_count": 3,
   "metadata": {
    "collapsed": false
   },
   "outputs": [],
   "source": [
    "h = vrep_interface.Hibike()"
   ]
  },
  {
   "cell_type": "code",
   "execution_count": 4,
   "metadata": {
    "collapsed": false
   },
   "outputs": [
    {
     "name": "stdout",
     "output_type": "stream",
     "text": [
      "[]\n"
     ]
    }
   ],
   "source": [
    "connectedDevices = h.getEnumeratedDevices()\n",
    "print connectedDevices"
   ]
  },
  {
   "cell_type": "code",
   "execution_count": 5,
   "metadata": {
    "collapsed": false
   },
   "outputs": [
    {
     "data": {
      "text/plain": [
       "0"
      ]
     },
     "execution_count": 5,
     "metadata": {},
     "output_type": "execute_result"
    }
   ],
   "source": [
    "connectedDevices = [(device, 50) for (device, device_type) in connectedDevices]\n",
    "h.subToDevices(connectedDevices)"
   ]
  },
  {
   "cell_type": "code",
   "execution_count": 6,
   "metadata": {
    "collapsed": true
   },
   "outputs": [],
   "source": [
    "def get_all_data(connectedDevices):\n",
    "    all_data = {}\n",
    "    for t in connectedDevices:\n",
    "        count = 1\n",
    "        tup_nest = h.getData(t[0], \"dataUpdate\")\n",
    "        if not tup_nest:\n",
    "            continue\n",
    "        tup_vals = tup_nest[0]\n",
    "        for i in tup_vals:\n",
    "            all_data[str(count) + str(t[0])] = i\n",
    "            count += 1\n",
    "    return all_data"
   ]
  },
  {
   "cell_type": "code",
   "execution_count": 5,
   "metadata": {
    "collapsed": false
   },
   "outputs": [
    {
     "ename": "NameError",
     "evalue": "name 'get_all_data' is not defined",
     "output_type": "error",
     "traceback": [
      "\u001b[1;31m---------------------------------------------------------------------------\u001b[0m",
      "\u001b[1;31mNameError\u001b[0m                                 Traceback (most recent call last)",
      "\u001b[1;32m<ipython-input-5-f235b9d7694a>\u001b[0m in \u001b[0;36m<module>\u001b[1;34m()\u001b[0m\n\u001b[1;32m----> 1\u001b[1;33m \u001b[0mget_all_data\u001b[0m\u001b[1;33m(\u001b[0m\u001b[0mconnectedDevices\u001b[0m\u001b[1;33m)\u001b[0m\u001b[1;33m\u001b[0m\u001b[0m\n\u001b[0m",
      "\u001b[1;31mNameError\u001b[0m: name 'get_all_data' is not defined"
     ]
    }
   ],
   "source": [
    "get_all_data(connectedDevices)"
   ]
  },
  {
   "cell_type": "code",
   "execution_count": 6,
   "metadata": {
    "collapsed": false
   },
   "outputs": [
    {
     "data": {
      "text/plain": [
       "['dr12_leftJoint_',\n",
       " 'Joint',\n",
       " 'dr12_rightJoint_',\n",
       " 'Joint#2',\n",
       " 'Joint#0',\n",
       " 'Joint#1']"
      ]
     },
     "execution_count": 6,
     "metadata": {},
     "output_type": "execute_result"
    }
   ],
   "source": [
    "addrs = Grizzly.get_all_ids()\n",
    "addrs"
   ]
  },
  {
   "cell_type": "code",
   "execution_count": 7,
   "metadata": {
    "collapsed": false
   },
   "outputs": [],
   "source": [
    "for addr in addrs:\n",
    "    g = Grizzly(addr)\n",
    "    g.set_mode(ControlMode.NO_PID, DriveMode.DRIVE_COAST)\n",
    "    g.set_target(0)"
   ]
  },
  {
   "cell_type": "code",
   "execution_count": 8,
   "metadata": {
    "collapsed": true
   },
   "outputs": [],
   "source": [
    "Grizzly(addrs[0]).set_target(100)"
   ]
  },
  {
   "cell_type": "code",
   "execution_count": 9,
   "metadata": {
    "collapsed": true
   },
   "outputs": [],
   "source": [
    "Grizzly(addrs[0]).set_target(0)"
   ]
  },
  {
   "cell_type": "code",
   "execution_count": null,
   "metadata": {
    "collapsed": true
   },
   "outputs": [],
   "source": []
  },
  {
   "cell_type": "code",
   "execution_count": null,
   "metadata": {
    "collapsed": true
   },
   "outputs": [],
   "source": []
  },
  {
   "cell_type": "code",
   "execution_count": 1,
   "metadata": {
    "collapsed": true
   },
   "outputs": [],
   "source": [
    "import memcache\n",
    "\n",
    "memcache_port = 12357\n",
    "mc = memcache.Client(['127.0.0.1:%d' % memcache_port]) # connect to memcache\n"
   ]
  },
  {
   "cell_type": "code",
   "execution_count": 3,
   "metadata": {
    "collapsed": false
   },
   "outputs": [
    {
     "data": {
      "text/plain": [
       "{'1distanceSensor': 0.032804448157548904,\n",
       " '1dr12_bumperForceSensor_': 10.802070617675781,\n",
       " '1dr12_sliderConnection_': -0.2143322229385376,\n",
       " '2distanceSensor': -0.061001986265182495,\n",
       " '2dr12_bumperForceSensor_': -0.1972365379333496,\n",
       " '2dr12_sliderConnection_': -0.06050218269228935,\n",
       " '3distanceSensor': 0.99759840965271,\n",
       " '3dr12_bumperForceSensor_': -23.48977279663086,\n",
       " '3dr12_sliderConnection_': 12.837244033813477}"
      ]
     },
     "execution_count": 3,
     "metadata": {},
     "output_type": "execute_result"
    }
   ],
   "source": [
    "mc.get('sensor_values')"
   ]
  },
  {
   "cell_type": "code",
   "execution_count": 2,
   "metadata": {
    "collapsed": true
   },
   "outputs": [],
   "source": [
    "mc.get('motor_values')"
   ]
  },
  {
   "cell_type": "code",
   "execution_count": 3,
   "metadata": {
    "collapsed": true
   },
   "outputs": [],
   "source": [
    "mc.get('maddr')"
   ]
  },
  {
   "cell_type": "code",
   "execution_count": 5,
   "metadata": {
    "collapsed": false
   },
   "outputs": [
    {
     "data": {
      "text/plain": [
       "{u'0': {u'axes': [-0.07743954658508301,\n",
       "   0.030685901641845703,\n",
       "   0.01118481159210205,\n",
       "   0.004867613315582275],\n",
       "  u'index': 0}}"
      ]
     },
     "execution_count": 5,
     "metadata": {},
     "output_type": "execute_result"
    }
   ],
   "source": [
    "mc.get('gamepad')"
   ]
  },
  {
   "cell_type": "code",
   "execution_count": null,
   "metadata": {
    "collapsed": true
   },
   "outputs": [],
   "source": []
  },
  {
   "cell_type": "code",
   "execution_count": 1,
   "metadata": {
    "collapsed": true
   },
   "outputs": [],
   "source": [
    "from api import Gamepads"
   ]
  },
  {
   "cell_type": "code",
   "execution_count": 3,
   "metadata": {
    "collapsed": false
   },
   "outputs": [
    {
     "ename": "TypeError",
     "evalue": "'NoneType' object has no attribute '__getitem__'",
     "output_type": "error",
     "traceback": [
      "\u001b[1;31m---------------------------------------------------------------------------\u001b[0m",
      "\u001b[1;31mTypeError\u001b[0m                                 Traceback (most recent call last)",
      "\u001b[1;32m<ipython-input-3-e869999fc805>\u001b[0m in \u001b[0;36m<module>\u001b[1;34m()\u001b[0m\n\u001b[1;32m----> 1\u001b[1;33m \u001b[0mGamepads\u001b[0m\u001b[1;33m.\u001b[0m\u001b[0mget_joysticks\u001b[0m\u001b[1;33m(\u001b[0m\u001b[1;36m0\u001b[0m\u001b[1;33m)\u001b[0m\u001b[1;33m[\u001b[0m\u001b[1;36m0\u001b[0m\u001b[1;33m]\u001b[0m\u001b[1;33m*\u001b[0m\u001b[1;36m100.0\u001b[0m\u001b[1;33m\u001b[0m\u001b[0m\n\u001b[0m",
      "\u001b[1;32mC:\\Users\\Threeloader\\Desktop\\pie\\daemon\\runtime\\api\\Gamepads.py\u001b[0m in \u001b[0;36mget_joysticks\u001b[1;34m(index)\u001b[0m\n\u001b[0;32m     50\u001b[0m     \u001b[1;33m>>\u001b[0m\u001b[1;33m>\u001b[0m \u001b[0maxes\u001b[0m \u001b[1;33m=\u001b[0m \u001b[0mGamepads\u001b[0m\u001b[1;33m.\u001b[0m\u001b[0mget_joysticks\u001b[0m\u001b[1;33m(\u001b[0m\u001b[1;36m0\u001b[0m\u001b[1;33m)\u001b[0m\u001b[1;33m\u001b[0m\u001b[0m\n\u001b[0;32m     51\u001b[0m     \"\"\"\n\u001b[1;32m---> 52\u001b[1;33m     \u001b[1;32mreturn\u001b[0m \u001b[0mmc\u001b[0m\u001b[1;33m.\u001b[0m\u001b[0mget\u001b[0m\u001b[1;33m(\u001b[0m\u001b[1;34m'gamepad'\u001b[0m\u001b[1;33m)\u001b[0m\u001b[1;33m[\u001b[0m\u001b[0mstr\u001b[0m\u001b[1;33m(\u001b[0m\u001b[0mindex\u001b[0m\u001b[1;33m)\u001b[0m\u001b[1;33m]\u001b[0m\u001b[1;33m[\u001b[0m\u001b[1;34m'axes'\u001b[0m\u001b[1;33m]\u001b[0m\u001b[1;33m\u001b[0m\u001b[0m\n\u001b[0m\u001b[0;32m     53\u001b[0m \u001b[1;33m\u001b[0m\u001b[0m\n\u001b[0;32m     54\u001b[0m \u001b[1;32mdef\u001b[0m \u001b[0mget_buttons\u001b[0m\u001b[1;33m(\u001b[0m\u001b[0mindex\u001b[0m\u001b[1;33m)\u001b[0m\u001b[1;33m:\u001b[0m\u001b[1;33m\u001b[0m\u001b[0m\n",
      "\u001b[1;31mTypeError\u001b[0m: 'NoneType' object has no attribute '__getitem__'"
     ]
    }
   ],
   "source": [
    "Gamepads.get_joysticks(0)[0]*100.0"
   ]
  },
  {
   "cell_type": "code",
   "execution_count": 6,
   "metadata": {
    "collapsed": true
   },
   "outputs": [],
   "source": [
    "import vrep"
   ]
  },
  {
   "cell_type": "code",
   "execution_count": null,
   "metadata": {
    "collapsed": true
   },
   "outputs": [],
   "source": []
  }
 ],
 "metadata": {
  "kernelspec": {
   "display_name": "Python 2",
   "language": "python",
   "name": "python2"
  },
  "language_info": {
   "codemirror_mode": {
    "name": "ipython",
    "version": 2
   },
   "file_extension": ".py",
   "mimetype": "text/x-python",
   "name": "python",
   "nbconvert_exporter": "python",
   "pygments_lexer": "ipython2",
   "version": "2.7.11"
  }
 },
 "nbformat": 4,
 "nbformat_minor": 0
}
